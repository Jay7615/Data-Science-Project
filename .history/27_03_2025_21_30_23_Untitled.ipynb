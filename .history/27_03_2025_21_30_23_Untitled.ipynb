{
 "cells": [
  {
   "cell_type": "code",
   "execution_count": null,
   "id": "f53cbbd7-eb1a-4731-8899-624979813149",
   "metadata": {},
   "outputs": [],
   "source": [
    "library(tidyverse)\n",
    "library(repr)\n",
    "library(tidymodels)\n",
    "options(repr.matrix.max.rows = 6)"
   ]
  },
  {
   "cell_type": "markdown",
   "id": "cd573a1f-f096-4c8d-aed8-60c3bf8a0266",
   "metadata": {},
   "source": [
    "- Broad Question: What player characteristics and behaviours are most predictive of subscribing to a game-related newsletter, and how do these features differ between various player types?\n",
    "\n",
    "- Specific Question: Can played_hours and age predict subscribe in players.csv?"
   ]
  },
  {
   "cell_type": "code",
   "execution_count": null,
   "id": "316fdb37-d928-4a61-88ce-3fa80c0cd75e",
   "metadata": {},
   "outputs": [],
   "source": [
    "cat(\"\\nNumber of observations in players dataset:\", nrow(players))\n",
    "cat(\"\\nNumber of variables in players dataset:\", ncol(players))"
   ]
  },
  {
   "cell_type": "code",
   "execution_count": null,
   "id": "b368d0ab-c9d2-4b0c-aeb5-c3e51321801c",
   "metadata": {},
   "outputs": [],
   "source": [
    "players <- read_csv(\"https://raw.githubusercontent.com/Jay7615/Project/refs/heads/main/players.csv\", show_col_types = FALSE) |>\n",
    "  select(played_hours, Age, subscribe) |>\n",
    "  rename(age = Age) |>\n",
    "   mutate(\n",
    "    subscribe = factor(subscribe, levels = c(FALSE, TRUE), labels = c(\"Non-subscriber\", \"Subscriber\")))\n",
    "subscription_summary <- players |>\n",
    "  group_by(subscribe) |>\n",
    "  summarise(\n",
    "    n = n(),\n",
    "    percent = n/nrow(players),\n",
    "    mean_age = mean(age, na.rm = TRUE),\n",
    "    mean_hours = mean(played_hours),\n",
    "    median_age = median(age, na.rm = TRUE),\n",
    "    median_hours = median(played_hours),\n",
    "    sd_age = sd(age, na.rm = TRUE),\n",
    "    sd_hours = sd(played_hours),\n",
    "    na_age = sum(is.na(age)),\n",
    "    na_hours = sum(is.na(played_hours)),\n",
    "  ) |>\n",
    "  mutate(percent = percent(percent, accuracy = 0.1))\n",
    "\n",
    "players <- players |>\n",
    "  mutate(age = replace_na(age, median(age, na.rm = TRUE)))\n",
    "cat(\"=== Summary ===\\n\")\n",
    "print(subscription_summary,, width = Inf)\n"
   ]
  },
  {
   "cell_type": "code",
   "execution_count": null,
   "id": "688b23cc-b50a-4f25-9a1a-c51b441ac433",
   "metadata": {},
   "outputs": [],
   "source": [
    "ggplot(players, aes(x = age, y = played_hours, color = subscribe)) +\n",
    "  geom_point(alpha = 0.6) +\n",
    "  labs(title = \"Played Hours vs Age by Subscription Status\",\n",
    "       x = \"Age\", y = \"Hours Played\") +\n",
    "  theme_minimal()\n"
   ]
  },
  {
   "cell_type": "code",
   "execution_count": null,
   "id": "3af76add-fb6a-4635-9ede-ea97c094f7e2",
   "metadata": {},
   "outputs": [],
   "source": [
    "players_split <- initial_split(players, prop = 0.7, strata = subscribe)\n",
    "training_set <- training(players_split)\n",
    "testing_set <- testing(players_split)\n",
    "\n",
    "player_recipe <- recipe(subscribe ~ played_hours + age, \n",
    "                    data = training_set) |>\n",
    "  step_impute_median(age) |>                \n",
    "  step_normalize(all_numeric_predictors())  \n",
    "\n",
    "knn_spec <- nearest_neighbor(\n",
    "  weight_func = \"rectangular\", \n",
    "  neighbors = tune()\n",
    ") |>\n",
    "  set_mode(\"classification\") |> \n",
    "  set_engine(\"kknn\")\n",
    "\n",
    "cv_folds <- vfold_cv(training_set, v = 5, strata = subscribe)\n",
    "\n",
    "knn_workflow <- workflow() |>\n",
    "  add_recipe(player_recipe) |>\n",
    "  add_model(knn_spec)\n",
    "\n",
    "knn_tune <- knn_workflow |> \n",
    "  tune_grid(\n",
    "    resamples = cv_folds,\n",
    "    grid = tibble(neighbors = seq(1, 100, by = 1)),\n",
    "    metrics = metric_set(accuracy, roc_auc)\n",
    "  )\n",
    "\n",
    "\n",
    "best_k <- select_best(knn_tune, metric = \"accuracy\")$neighbors\n",
    "best_knn <- select_best(knn_tune, \"accuracy\")\n"
   ]
  },
  {
   "cell_type": "code",
   "execution_count": null,
   "id": "23364f00-3071-46fc-978b-3980d03f6090",
   "metadata": {},
   "outputs": [],
   "source": [
    "final_spec <- nearest_neighbor(\n",
    "  weight_func = \"rectangular\",\n",
    "  neighbors = best_k\n",
    ") |> \n",
    "  set_mode(\"classification\") |>\n",
    "  set_engine(\"kknn\")\n",
    "\n",
    "final_fit <- workflow() |>\n",
    "  add_recipe(player_recipe) |>\n",
    "  add_model(final_spec) |>\n",
    "  fit(data = training_set)\n",
    "\n",
    "player_predictions <- predict(final_fit, new_data = testing_set) |>\n",
    "  bind_cols(testing_set)\n",
    "\n",
    "player_results <- player_predictions |>\n",
    "  rename(predicted_subscription = .pred_class)\n",
    "\n",
    "player_metrics <- player_results |>\n",
    "  accuracy(truth = subscribe, estimate = predicted_subscription)\n",
    "\n",
    "player_conf_mat <- player_results |>\n",
    "  conf_mat(truth = subscribe, estimate = predicted_subscription)\n",
    "\n",
    "player_metrics\n",
    "player_conf_mat"
   ]
  }
 ],
 "metadata": {
  "kernelspec": {
   "display_name": "R",
   "language": "R",
   "name": "ir"
  },
  "language_info": {
   "codemirror_mode": "r",
   "file_extension": ".r",
   "mimetype": "text/x-r-source",
   "name": "R",
   "pygments_lexer": "r",
   "version": "4.3.3"
  }
 },
 "nbformat": 4,
 "nbformat_minor": 5
}
