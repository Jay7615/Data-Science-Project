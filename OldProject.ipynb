{
 "cells": [
  {
   "cell_type": "code",
   "execution_count": 13,
   "id": "6c09cee4-2de5-40eb-8121-cf70c3d4b398",
   "metadata": {},
   "outputs": [],
   "source": [
    "library(tidyverse)\n",
    "library(repr)\n",
    "library(tidymodels)\n",
    "options(repr.matrix.max.rows = 6)\n",
    "#source('cleanup.R')"
   ]
  },
  {
   "cell_type": "code",
   "execution_count": 14,
   "id": "bf04227d-dbda-4d6a-a5d9-93d5bdd70dca",
   "metadata": {},
   "outputs": [
    {
     "name": "stderr",
     "output_type": "stream",
     "text": [
      "\u001b[1mRows: \u001b[22m\u001b[34m196\u001b[39m \u001b[1mColumns: \u001b[22m\u001b[34m7\u001b[39m\n",
      "\u001b[36m──\u001b[39m \u001b[1mColumn specification\u001b[22m \u001b[36m────────────────────────────────────────────────────────\u001b[39m\n",
      "\u001b[1mDelimiter:\u001b[22m \",\"\n",
      "\u001b[31mchr\u001b[39m (4): experience, hashedEmail, name, gender\n",
      "\u001b[32mdbl\u001b[39m (2): played_hours, Age\n",
      "\u001b[33mlgl\u001b[39m (1): subscribe\n",
      "\n",
      "\u001b[36mℹ\u001b[39m Use `spec()` to retrieve the full column specification for this data.\n",
      "\u001b[36mℹ\u001b[39m Specify the column types or set `show_col_types = FALSE` to quiet this message.\n",
      "\u001b[1mRows: \u001b[22m\u001b[34m1535\u001b[39m \u001b[1mColumns: \u001b[22m\u001b[34m5\u001b[39m\n",
      "\u001b[36m──\u001b[39m \u001b[1mColumn specification\u001b[22m \u001b[36m────────────────────────────────────────────────────────\u001b[39m\n",
      "\u001b[1mDelimiter:\u001b[22m \",\"\n",
      "\u001b[31mchr\u001b[39m (3): hashedEmail, start_time, end_time\n",
      "\u001b[32mdbl\u001b[39m (2): original_start_time, original_end_time\n",
      "\n",
      "\u001b[36mℹ\u001b[39m Use `spec()` to retrieve the full column specification for this data.\n",
      "\u001b[36mℹ\u001b[39m Specify the column types or set `show_col_types = FALSE` to quiet this message.\n"
     ]
    },
    {
     "data": {
      "text/html": [
       "<table class=\"dataframe\">\n",
       "<caption>A spec_tbl_df: 196 × 7</caption>\n",
       "<thead>\n",
       "\t<tr><th scope=col>experience</th><th scope=col>subscribe</th><th scope=col>hashedEmail</th><th scope=col>played_hours</th><th scope=col>name</th><th scope=col>gender</th><th scope=col>Age</th></tr>\n",
       "\t<tr><th scope=col>&lt;chr&gt;</th><th scope=col>&lt;lgl&gt;</th><th scope=col>&lt;chr&gt;</th><th scope=col>&lt;dbl&gt;</th><th scope=col>&lt;chr&gt;</th><th scope=col>&lt;chr&gt;</th><th scope=col>&lt;dbl&gt;</th></tr>\n",
       "</thead>\n",
       "<tbody>\n",
       "\t<tr><td>Pro    </td><td> TRUE</td><td>f6daba428a5e19a3d47574858c13550499be23603422e6a0ee9728f8b53e192d</td><td>30.3</td><td>Morgan   </td><td>Male</td><td> 9</td></tr>\n",
       "\t<tr><td>Veteran</td><td> TRUE</td><td>f3c813577c458ba0dfef80996f8f32c93b6e8af1fa939732842f2312358a88e9</td><td> 3.8</td><td>Christian</td><td>Male</td><td>17</td></tr>\n",
       "\t<tr><td>Veteran</td><td>FALSE</td><td>b674dd7ee0d24096d1c019615ce4d12b20fcbff12d79d3c5a9d2118eb7ccbb28</td><td> 0.0</td><td>Blake    </td><td>Male</td><td>17</td></tr>\n",
       "\t<tr><td>⋮</td><td>⋮</td><td>⋮</td><td>⋮</td><td>⋮</td><td>⋮</td><td>⋮</td></tr>\n",
       "\t<tr><td>Amateur</td><td>FALSE</td><td>d572f391d452b76ea2d7e5e53a3d38bfd7499c7399db299bd4fedb06a46ad5bb</td><td>0.0</td><td>Dylan </td><td>Prefer not to say</td><td>17</td></tr>\n",
       "\t<tr><td>Amateur</td><td>FALSE</td><td>f19e136ddde68f365afc860c725ccff54307dedd13968e896a9f890c40aea436</td><td>2.3</td><td>Harlow</td><td>Male             </td><td>17</td></tr>\n",
       "\t<tr><td>Pro    </td><td> TRUE</td><td>d9473710057f7d42f36570f0be83817a4eea614029ff90cf50d8889cdd729d11</td><td>0.2</td><td>Ahmed </td><td>Other            </td><td>NA</td></tr>\n",
       "</tbody>\n",
       "</table>\n"
      ],
      "text/latex": [
       "A spec\\_tbl\\_df: 196 × 7\n",
       "\\begin{tabular}{lllllll}\n",
       " experience & subscribe & hashedEmail & played\\_hours & name & gender & Age\\\\\n",
       " <chr> & <lgl> & <chr> & <dbl> & <chr> & <chr> & <dbl>\\\\\n",
       "\\hline\n",
       "\t Pro     &  TRUE & f6daba428a5e19a3d47574858c13550499be23603422e6a0ee9728f8b53e192d & 30.3 & Morgan    & Male &  9\\\\\n",
       "\t Veteran &  TRUE & f3c813577c458ba0dfef80996f8f32c93b6e8af1fa939732842f2312358a88e9 &  3.8 & Christian & Male & 17\\\\\n",
       "\t Veteran & FALSE & b674dd7ee0d24096d1c019615ce4d12b20fcbff12d79d3c5a9d2118eb7ccbb28 &  0.0 & Blake     & Male & 17\\\\\n",
       "\t ⋮ & ⋮ & ⋮ & ⋮ & ⋮ & ⋮ & ⋮\\\\\n",
       "\t Amateur & FALSE & d572f391d452b76ea2d7e5e53a3d38bfd7499c7399db299bd4fedb06a46ad5bb & 0.0 & Dylan  & Prefer not to say & 17\\\\\n",
       "\t Amateur & FALSE & f19e136ddde68f365afc860c725ccff54307dedd13968e896a9f890c40aea436 & 2.3 & Harlow & Male              & 17\\\\\n",
       "\t Pro     &  TRUE & d9473710057f7d42f36570f0be83817a4eea614029ff90cf50d8889cdd729d11 & 0.2 & Ahmed  & Other             & NA\\\\\n",
       "\\end{tabular}\n"
      ],
      "text/markdown": [
       "\n",
       "A spec_tbl_df: 196 × 7\n",
       "\n",
       "| experience &lt;chr&gt; | subscribe &lt;lgl&gt; | hashedEmail &lt;chr&gt; | played_hours &lt;dbl&gt; | name &lt;chr&gt; | gender &lt;chr&gt; | Age &lt;dbl&gt; |\n",
       "|---|---|---|---|---|---|---|\n",
       "| Pro     |  TRUE | f6daba428a5e19a3d47574858c13550499be23603422e6a0ee9728f8b53e192d | 30.3 | Morgan    | Male |  9 |\n",
       "| Veteran |  TRUE | f3c813577c458ba0dfef80996f8f32c93b6e8af1fa939732842f2312358a88e9 |  3.8 | Christian | Male | 17 |\n",
       "| Veteran | FALSE | b674dd7ee0d24096d1c019615ce4d12b20fcbff12d79d3c5a9d2118eb7ccbb28 |  0.0 | Blake     | Male | 17 |\n",
       "| ⋮ | ⋮ | ⋮ | ⋮ | ⋮ | ⋮ | ⋮ |\n",
       "| Amateur | FALSE | d572f391d452b76ea2d7e5e53a3d38bfd7499c7399db299bd4fedb06a46ad5bb | 0.0 | Dylan  | Prefer not to say | 17 |\n",
       "| Amateur | FALSE | f19e136ddde68f365afc860c725ccff54307dedd13968e896a9f890c40aea436 | 2.3 | Harlow | Male              | 17 |\n",
       "| Pro     |  TRUE | d9473710057f7d42f36570f0be83817a4eea614029ff90cf50d8889cdd729d11 | 0.2 | Ahmed  | Other             | NA |\n",
       "\n"
      ],
      "text/plain": [
       "    experience subscribe\n",
       "1   Pro         TRUE    \n",
       "2   Veteran     TRUE    \n",
       "3   Veteran    FALSE    \n",
       "⋮   ⋮          ⋮        \n",
       "194 Amateur    FALSE    \n",
       "195 Amateur    FALSE    \n",
       "196 Pro         TRUE    \n",
       "    hashedEmail                                                     \n",
       "1   f6daba428a5e19a3d47574858c13550499be23603422e6a0ee9728f8b53e192d\n",
       "2   f3c813577c458ba0dfef80996f8f32c93b6e8af1fa939732842f2312358a88e9\n",
       "3   b674dd7ee0d24096d1c019615ce4d12b20fcbff12d79d3c5a9d2118eb7ccbb28\n",
       "⋮   ⋮                                                               \n",
       "194 d572f391d452b76ea2d7e5e53a3d38bfd7499c7399db299bd4fedb06a46ad5bb\n",
       "195 f19e136ddde68f365afc860c725ccff54307dedd13968e896a9f890c40aea436\n",
       "196 d9473710057f7d42f36570f0be83817a4eea614029ff90cf50d8889cdd729d11\n",
       "    played_hours name      gender            Age\n",
       "1   30.3         Morgan    Male               9 \n",
       "2    3.8         Christian Male              17 \n",
       "3    0.0         Blake     Male              17 \n",
       "⋮   ⋮            ⋮         ⋮                 ⋮  \n",
       "194 0.0          Dylan     Prefer not to say 17 \n",
       "195 2.3          Harlow    Male              17 \n",
       "196 0.2          Ahmed     Other             NA "
      ]
     },
     "metadata": {},
     "output_type": "display_data"
    }
   ],
   "source": [
    "#players <- read_csv(\"data/players.csv\")\n",
    "#sessions <- read_csv(\"data/players.csv\")\n",
    "players <- read_csv(\"https://raw.githubusercontent.com/Jay7615/Project/refs/heads/main/players.csv\")\n",
    "sessions <- read_csv(\"https://raw.githubusercontent.com/Jay7615/Project/refs/heads/main/sessions.csv\")\n",
    "players"
   ]
  },
  {
   "cell_type": "code",
   "execution_count": 15,
   "id": "f2fe564b-f524-4f8e-ac8c-1a8efb238030",
   "metadata": {},
   "outputs": [
    {
     "name": "stdout",
     "output_type": "stream",
     "text": [
      "\n",
      "Summary statistics for players dataset:"
     ]
    },
    {
     "data": {
      "text/plain": [
       "  experience        subscribe       hashedEmail         played_hours    \n",
       " Length:196         Mode :logical   Length:196         Min.   :  0.000  \n",
       " Class :character   FALSE:52        Class :character   1st Qu.:  0.000  \n",
       " Mode  :character   TRUE :144       Mode  :character   Median :  0.100  \n",
       "                                                       Mean   :  5.846  \n",
       "                                                       3rd Qu.:  0.600  \n",
       "                                                       Max.   :223.100  \n",
       "                                                                        \n",
       "     name              gender               Age       \n",
       " Length:196         Length:196         Min.   : 8.00  \n",
       " Class :character   Class :character   1st Qu.:17.00  \n",
       " Mode  :character   Mode  :character   Median :19.00  \n",
       "                                       Mean   :20.52  \n",
       "                                       3rd Qu.:22.00  \n",
       "                                       Max.   :50.00  \n",
       "                                       NA's   :2      "
      ]
     },
     "metadata": {},
     "output_type": "display_data"
    },
    {
     "name": "stdout",
     "output_type": "stream",
     "text": [
      "\n",
      "Summary statistics for sessions dataset:"
     ]
    },
    {
     "data": {
      "text/plain": [
       " hashedEmail         start_time          end_time         original_start_time\n",
       " Length:1535        Length:1535        Length:1535        Min.   :1.712e+12  \n",
       " Class :character   Class :character   Class :character   1st Qu.:1.716e+12  \n",
       " Mode  :character   Mode  :character   Mode  :character   Median :1.719e+12  \n",
       "                                                          Mean   :1.719e+12  \n",
       "                                                          3rd Qu.:1.722e+12  \n",
       "                                                          Max.   :1.727e+12  \n",
       "                                                                             \n",
       " original_end_time  \n",
       " Min.   :1.712e+12  \n",
       " 1st Qu.:1.716e+12  \n",
       " Median :1.719e+12  \n",
       " Mean   :1.719e+12  \n",
       " 3rd Qu.:1.722e+12  \n",
       " Max.   :1.727e+12  \n",
       " NA's   :2          "
      ]
     },
     "metadata": {},
     "output_type": "display_data"
    },
    {
     "name": "stdout",
     "output_type": "stream",
     "text": [
      "\n",
      "Missing values in players dataset:  experience    subscribe  hashedEmail played_hours         name       gender \n",
      "           0            0            0            0            0            0 \n",
      "         Age \n",
      "           2 \n",
      "\n",
      "Missing values in sessions dataset:        hashedEmail          start_time            end_time original_start_time \n",
      "                  0                   0                   2                   0 \n",
      "  original_end_time \n",
      "                  2 \n"
     ]
    }
   ],
   "source": [
    "\n",
    "# Summary statistics\n",
    "cat(\"\\nSummary statistics for players dataset:\")\n",
    "summary(players)\n",
    "cat(\"\\nSummary statistics for sessions dataset:\")\n",
    "summary(sessions)\n",
    "\n",
    "# Check for missing values\n",
    "cat(\"\\nMissing values in players dataset:\")\n",
    "print(colSums(is.na(players)))\n",
    "cat(\"\\nMissing values in sessions dataset:\")\n",
    "print(colSums(is.na(sessions)))\n",
    "\n",
    "\n"
   ]
  },
  {
   "cell_type": "markdown",
   "id": "d4c7ac15-110d-4f70-9625-7d19bc49e399",
   "metadata": {},
   "source": [
    "# 1) Data Description:"
   ]
  },
  {
   "cell_type": "markdown",
   "id": "dc4a33b9-9ab3-4c11-8eda-2903b4333be8",
   "metadata": {},
   "source": [
    "# Data Description for `players.csv`\n",
    "\n",
    "## Dataset Overview\n",
    "- **Number of Observations**: 196  \n",
    "- **Number of Variables**: 7  \n",
    "- **Data Collection Method**: Collected from a Minecraft server tracking player actions, demographics, and subscription status.  \n",
    "\n",
    "---\n",
    "\n",
    "## Variables Summary\n",
    "\n",
    "| Variable Name     | Type       | Description                                                                 | Notes                                                                                   |\n",
    "|-------------------|------------|-----------------------------------------------------------------------------|-----------------------------------------------------------------------------------------|\n",
    "| `experience`      | Categorical (chr) | Player's self-reported skill level                                         | `Beginner`, `Amateur`, `Regular`, `Veteran`, `Pro`                                      |\n",
    "| `subscribe`       | Categorical (lgl)| Whether the player subscribed to the newsletter                            | `TRUE`/`FALSE`                                                                          |\n",
    "| `hashedEmail`     | String (chr)     | Unique hashed identifier for player emails                                 | SHA-256 hashes (e.g., `f6daba42...`)                                                    |\n",
    "| `played_hours`    | Numeric (dbl)     | Total hours the player spent on the server                                 | Float values (e.g., `30.3`, `0`, `223.1`)                                               |\n",
    "| `name`            | String (chr)    | Player's name                                                              | Unique per player (e.g., `Morgan`, `Kyrie`, `Akio`)                                     |\n",
    "| `gender`          | Categorical (chr) | Player's self-reported gender identity                                     | `Male`, `Female`, `Non-binary`, `Prefer not to say`, `Two-Spirited`, `Agender`, `Other` |\n",
    "| `Age`             | Numeric (dbl) | Player's age                                                               | Range: `8`–`50`; includes `NA` (missing values)                                         |\n",
    "\n",
    "---\n",
    "\n",
    "## Summary Statistics\n",
    "\n",
    "### Numeric Variables\n",
    "- **`played_hours`**  \n",
    "  - **Mean**: 5.846 hours  \n",
    "  - **Median**: 0.1 hours  \n",
    "  - **Range**: 0–223.1 hours  \n",
    "  - **Standard Deviation**: 28.4 hours  \n",
    "\n",
    "- **`Age`**  \n",
    "  - **Mean**: 20.52 years  \n",
    "  - **Median**: 19.00 years  \n",
    "  - **Range**: `8`–`50` years\n",
    "  - **Standard Deviation**: 6.17 years\n",
    "  - **Missing Values**: 2 entries\n",
    "\n",
    "### Categorical Variables\n",
    "- **`experience`**\n",
    "    - `Amateur` 32% (64)\n",
    "    - `Beginner` 18% (35)\n",
    "    - `Beginner` 18% (35)\n",
    "    - `Veteran` 24% (48)\n",
    "    - `Pro` 7% (14)\n",
    "\n",
    "\n",
    "- **`subscribe`**  \n",
    "  - 73% (144) subscribed (`TRUE`), 27% (52) did not (`FALSE`).  \n",
    "\n",
    "- **`gender`**  \n",
    "  - Majority: `Male`63% (124), `Female` 19% (37).  \n",
    "  - Minorities: `Non-binary` 8% (15), `Prefer not to say` 6% (11%), `Agender` 2% (1), \n",
    "                `Two-Spirited` 3% (6), `others` <1% (1).\n",
    "---\n",
    "\n",
    "## Data Issues\n",
    "1. **Missing Values**:  \n",
    "   - `Age` has 2 `NA` entries (`Devin` and `Ahmed` have `NA`).  \n",
    "2. **Ambiguous Definitions**:  \n",
    "   - `experience` levels are not clearly defined (self-reported vs. measured).  \n",
    "   - `played_hours` timeframe is unclear (lifetime total or specific period?).  \n",
    "3. **Inconsistent naming conventions**:\n",
    "   - Most variable names are in snake_case  (e.g., played_hours)\n",
    "   - `hashedEmail` uses camelCase\n",
    "   - `Age` is capitalized"
   ]
  },
  {
   "cell_type": "markdown",
   "id": "d690e799-6456-4b10-aaaa-a2ff99028610",
   "metadata": {},
   "source": [
    "\n",
    "# Data Description for `sessions.csv`\n",
    "- **Number of Observations**: 1,535  \n",
    "- **Number of Variables**: 5  \n",
    "- **Data Collection Method**: Logged player session data from a Minecraft server.  \n",
    "\n",
    "---\n",
    "\n",
    "### Variables Summary\n",
    "\n",
    "| Variable Name         | Type      | Description                                                       | Notes |\n",
    "|-----------------------|----------|-------------------------------------------------------------------|-------|\n",
    "| `hashedEmail`        | String   | Unique hashed identifier for player emails                        | SHA-256 hashes, anonymized. |\n",
    "| `start_time`         | String   | Session start time (formatted as `DD/MM/YYYY HH:MM`)              | Needs conversion to datetime. |\n",
    "| `end_time`           | String   | Session end time (formatted as `DD/MM/YYYY HH:MM`)                | Some missing values (`NA`). |\n",
    "| `original_start_time`| Float    | Unix timestamp of session start                                  | Needs conversion to datetime. |\n",
    "| `original_end_time`  | Float    | Unix timestamp of session end                                    | Some missing values (`NA`). |\n",
    "\n",
    "---\n",
    "\n",
    "### Data Issues\n",
    "1. **Missing Values**:  \n",
    "   - `end_time` and `original_end_time` have two missing values.  \n",
    "   -  If `end_time` is missing, it’s unclear if the session was ongoing or if data was lost. \n",
    "2. **Data Format Issues**:  \n",
    "   - `start_time` and `end_time` should be converted to datetime objects.  \n",
    "\n",
    "---\n"
   ]
  },
  {
   "cell_type": "code",
   "execution_count": 16,
   "id": "9b215e9f-fce0-463c-a7c7-751a8e1bcdad",
   "metadata": {},
   "outputs": [
    {
     "name": "stdout",
     "output_type": "stream",
     "text": [
      "\n",
      "Number of observations in players dataset: 196\n",
      "Number of variables in players dataset: 7\n",
      "Number of observations in sessions dataset: 1535\n",
      "Number of variables in sessions dataset: 5"
     ]
    },
    {
     "data": {
      "text/plain": [
       "\n",
       "          Agender            Female              Male        Non-binary \n",
       "                2                37               124                15 \n",
       "            Other Prefer not to say      Two-Spirited \n",
       "                1                11                 6 "
      ]
     },
     "metadata": {},
     "output_type": "display_data"
    },
    {
     "data": {
      "text/plain": [
       "\n",
       "          Agender            Female              Male        Non-binary \n",
       "      0.010204082       0.188775510       0.632653061       0.076530612 \n",
       "            Other Prefer not to say      Two-Spirited \n",
       "      0.005102041       0.056122449       0.030612245 "
      ]
     },
     "metadata": {},
     "output_type": "display_data"
    },
    {
     "data": {
      "text/plain": [
       "\n",
       " Amateur Beginner      Pro  Regular  Veteran \n",
       "      63       35       14       36       48 "
      ]
     },
     "metadata": {},
     "output_type": "display_data"
    },
    {
     "data": {
      "text/plain": [
       "\n",
       "   Amateur   Beginner        Pro    Regular    Veteran \n",
       "0.32142857 0.17857143 0.07142857 0.18367347 0.24489796 "
      ]
     },
     "metadata": {},
     "output_type": "display_data"
    },
    {
     "data": {
      "text/plain": [
       "\n",
       "FALSE  TRUE \n",
       "   52   144 "
      ]
     },
     "metadata": {},
     "output_type": "display_data"
    },
    {
     "data": {
      "text/plain": [
       "\n",
       "    FALSE      TRUE \n",
       "0.2653061 0.7346939 "
      ]
     },
     "metadata": {},
     "output_type": "display_data"
    },
    {
     "data": {
      "text/html": [
       "0"
      ],
      "text/latex": [
       "0"
      ],
      "text/markdown": [
       "0"
      ],
      "text/plain": [
       "[1] 0"
      ]
     },
     "metadata": {},
     "output_type": "display_data"
    },
    {
     "data": {
      "text/html": [
       "0"
      ],
      "text/latex": [
       "0"
      ],
      "text/markdown": [
       "0"
      ],
      "text/plain": [
       "[1] 0"
      ]
     },
     "metadata": {},
     "output_type": "display_data"
    },
    {
     "data": {
      "text/html": [
       "28.3573430760317"
      ],
      "text/latex": [
       "28.3573430760317"
      ],
      "text/markdown": [
       "28.3573430760317"
      ],
      "text/plain": [
       "[1] 28.35734"
      ]
     },
     "metadata": {},
     "output_type": "display_data"
    },
    {
     "data": {
      "text/html": [
       "6.17466725237736"
      ],
      "text/latex": [
       "6.17466725237736"
      ],
      "text/markdown": [
       "6.17466725237736"
      ],
      "text/plain": [
       "[1] 6.174667"
      ]
     },
     "metadata": {},
     "output_type": "display_data"
    }
   ],
   "source": [
    "cat(\"\\nNumber of observations in players dataset:\", nrow(players))\n",
    "cat(\"\\nNumber of variables in players dataset:\", ncol(players))\n",
    "cat(\"\\nNumber of observations in sessions dataset:\", nrow(sessions))\n",
    "cat(\"\\nNumber of variables in sessions dataset:\", ncol(sessions))\n",
    "gender_counts <- table(players$gender)\n",
    "gender_counts\n",
    "gender_proportions <- prop.table(gender_counts)\n",
    "gender_proportions\n",
    "experience_counts <- table(players$experience)\n",
    "experience_counts\n",
    "experience_proportions <- prop.table(experience_counts)\n",
    "experience_proportions\n",
    "subscribe_counts <- table(players$subscribe)\n",
    "subscribe_counts\n",
    "subscribe_proportions <- prop.table(subscribe_counts)\n",
    "subscribe_proportions\n",
    "sum(duplicated(players$hashedEmail))\n",
    "sum(duplicated(players$name))\n",
    "sd(players$played_hours, na.rm = TRUE) \n",
    "sd(players$Age, na.rm = TRUE)  "
   ]
  },
  {
   "cell_type": "code",
   "execution_count": 17,
   "id": "acdc0326-9328-42e2-bcbb-062a6b37cfe4",
   "metadata": {},
   "outputs": [
    {
     "data": {
      "text/html": [
       "<table class=\"dataframe\">\n",
       "<caption>A tibble: 6 × 7</caption>\n",
       "<thead>\n",
       "\t<tr><th scope=col>experience</th><th scope=col>subscribe</th><th scope=col>hashedEmail</th><th scope=col>played_hours</th><th scope=col>name</th><th scope=col>gender</th><th scope=col>Age</th></tr>\n",
       "\t<tr><th scope=col>&lt;chr&gt;</th><th scope=col>&lt;lgl&gt;</th><th scope=col>&lt;chr&gt;</th><th scope=col>&lt;dbl&gt;</th><th scope=col>&lt;chr&gt;</th><th scope=col>&lt;chr&gt;</th><th scope=col>&lt;dbl&gt;</th></tr>\n",
       "</thead>\n",
       "<tbody>\n",
       "\t<tr><td>Regular</td><td>TRUE</td><td>bfce39c89d6549f2bb94d8064d3ce69dc3d7e72b38f431d8aa0c4bf95ccee6bf</td><td>223.1</td><td>Hiroshi</td><td>Male      </td><td>17</td></tr>\n",
       "\t<tr><td>Regular</td><td>TRUE</td><td>b622593d2ef8b337dc554acb307d04a88114f2bf453b18fb5d2c80052aeb2319</td><td>218.1</td><td>Akio   </td><td>Non-binary</td><td>20</td></tr>\n",
       "\t<tr><td>Regular</td><td>TRUE</td><td>ad6390295640af1ed0e45ffc58a53b2d9074b0eea694b16210addd44d7c81f83</td><td>178.2</td><td>Piper  </td><td>Female    </td><td>19</td></tr>\n",
       "\t<tr><td>Amateur</td><td>TRUE</td><td>f8f5477f5a2e53616ae37421b1c660b971192bd8ff77e3398304c7ae42581fdc</td><td>150.0</td><td>Delara </td><td>Female    </td><td>16</td></tr>\n",
       "\t<tr><td>Amateur</td><td>TRUE</td><td>fd6563a4e0f6f4273580e5fedbd8dda64990447aea5a33cbb5e894a3867ca44d</td><td> 56.1</td><td>Dana   </td><td>Male      </td><td>23</td></tr>\n",
       "\t<tr><td>Amateur</td><td>TRUE</td><td>36d9cbb4c6bc0c1a6911436d2da0d09ec625e43e6552f575d4acc9cf487c4686</td><td> 53.9</td><td>Alex   </td><td>Male      </td><td>17</td></tr>\n",
       "</tbody>\n",
       "</table>\n"
      ],
      "text/latex": [
       "A tibble: 6 × 7\n",
       "\\begin{tabular}{lllllll}\n",
       " experience & subscribe & hashedEmail & played\\_hours & name & gender & Age\\\\\n",
       " <chr> & <lgl> & <chr> & <dbl> & <chr> & <chr> & <dbl>\\\\\n",
       "\\hline\n",
       "\t Regular & TRUE & bfce39c89d6549f2bb94d8064d3ce69dc3d7e72b38f431d8aa0c4bf95ccee6bf & 223.1 & Hiroshi & Male       & 17\\\\\n",
       "\t Regular & TRUE & b622593d2ef8b337dc554acb307d04a88114f2bf453b18fb5d2c80052aeb2319 & 218.1 & Akio    & Non-binary & 20\\\\\n",
       "\t Regular & TRUE & ad6390295640af1ed0e45ffc58a53b2d9074b0eea694b16210addd44d7c81f83 & 178.2 & Piper   & Female     & 19\\\\\n",
       "\t Amateur & TRUE & f8f5477f5a2e53616ae37421b1c660b971192bd8ff77e3398304c7ae42581fdc & 150.0 & Delara  & Female     & 16\\\\\n",
       "\t Amateur & TRUE & fd6563a4e0f6f4273580e5fedbd8dda64990447aea5a33cbb5e894a3867ca44d &  56.1 & Dana    & Male       & 23\\\\\n",
       "\t Amateur & TRUE & 36d9cbb4c6bc0c1a6911436d2da0d09ec625e43e6552f575d4acc9cf487c4686 &  53.9 & Alex    & Male       & 17\\\\\n",
       "\\end{tabular}\n"
      ],
      "text/markdown": [
       "\n",
       "A tibble: 6 × 7\n",
       "\n",
       "| experience &lt;chr&gt; | subscribe &lt;lgl&gt; | hashedEmail &lt;chr&gt; | played_hours &lt;dbl&gt; | name &lt;chr&gt; | gender &lt;chr&gt; | Age &lt;dbl&gt; |\n",
       "|---|---|---|---|---|---|---|\n",
       "| Regular | TRUE | bfce39c89d6549f2bb94d8064d3ce69dc3d7e72b38f431d8aa0c4bf95ccee6bf | 223.1 | Hiroshi | Male       | 17 |\n",
       "| Regular | TRUE | b622593d2ef8b337dc554acb307d04a88114f2bf453b18fb5d2c80052aeb2319 | 218.1 | Akio    | Non-binary | 20 |\n",
       "| Regular | TRUE | ad6390295640af1ed0e45ffc58a53b2d9074b0eea694b16210addd44d7c81f83 | 178.2 | Piper   | Female     | 19 |\n",
       "| Amateur | TRUE | f8f5477f5a2e53616ae37421b1c660b971192bd8ff77e3398304c7ae42581fdc | 150.0 | Delara  | Female     | 16 |\n",
       "| Amateur | TRUE | fd6563a4e0f6f4273580e5fedbd8dda64990447aea5a33cbb5e894a3867ca44d |  56.1 | Dana    | Male       | 23 |\n",
       "| Amateur | TRUE | 36d9cbb4c6bc0c1a6911436d2da0d09ec625e43e6552f575d4acc9cf487c4686 |  53.9 | Alex    | Male       | 17 |\n",
       "\n"
      ],
      "text/plain": [
       "  experience subscribe\n",
       "1 Regular    TRUE     \n",
       "2 Regular    TRUE     \n",
       "3 Regular    TRUE     \n",
       "4 Amateur    TRUE     \n",
       "5 Amateur    TRUE     \n",
       "6 Amateur    TRUE     \n",
       "  hashedEmail                                                      played_hours\n",
       "1 bfce39c89d6549f2bb94d8064d3ce69dc3d7e72b38f431d8aa0c4bf95ccee6bf 223.1       \n",
       "2 b622593d2ef8b337dc554acb307d04a88114f2bf453b18fb5d2c80052aeb2319 218.1       \n",
       "3 ad6390295640af1ed0e45ffc58a53b2d9074b0eea694b16210addd44d7c81f83 178.2       \n",
       "4 f8f5477f5a2e53616ae37421b1c660b971192bd8ff77e3398304c7ae42581fdc 150.0       \n",
       "5 fd6563a4e0f6f4273580e5fedbd8dda64990447aea5a33cbb5e894a3867ca44d  56.1       \n",
       "6 36d9cbb4c6bc0c1a6911436d2da0d09ec625e43e6552f575d4acc9cf487c4686  53.9       \n",
       "  name    gender     Age\n",
       "1 Hiroshi Male       17 \n",
       "2 Akio    Non-binary 20 \n",
       "3 Piper   Female     19 \n",
       "4 Delara  Female     16 \n",
       "5 Dana    Male       23 \n",
       "6 Alex    Male       17 "
      ]
     },
     "metadata": {},
     "output_type": "display_data"
    }
   ],
   "source": [
    "sorted_data <- players %>%\n",
    "  arrange(desc(played_hours))\n",
    "head(sorted_data) "
   ]
  },
  {
   "cell_type": "code",
   "execution_count": 18,
   "id": "1e263867-c6f4-4542-9599-a9328e872e8b",
   "metadata": {},
   "outputs": [
    {
     "data": {
      "text/html": [
       "2"
      ],
      "text/latex": [
       "2"
      ],
      "text/markdown": [
       "2"
      ],
      "text/plain": [
       "[1] 2"
      ]
     },
     "metadata": {},
     "output_type": "display_data"
    },
    {
     "data": {
      "text/html": [
       "<table class=\"dataframe\">\n",
       "<caption>A spec_tbl_df: 2 × 7</caption>\n",
       "<thead>\n",
       "\t<tr><th scope=col>experience</th><th scope=col>subscribe</th><th scope=col>hashedEmail</th><th scope=col>played_hours</th><th scope=col>name</th><th scope=col>gender</th><th scope=col>Age</th></tr>\n",
       "\t<tr><th scope=col>&lt;chr&gt;</th><th scope=col>&lt;lgl&gt;</th><th scope=col>&lt;chr&gt;</th><th scope=col>&lt;dbl&gt;</th><th scope=col>&lt;chr&gt;</th><th scope=col>&lt;chr&gt;</th><th scope=col>&lt;dbl&gt;</th></tr>\n",
       "</thead>\n",
       "<tbody>\n",
       "\t<tr><td>Regular</td><td>TRUE</td><td>7d71c49cbbce8dcf0276b2bfecfa2d16f22cb31a4024556d6085884298f2ee8d</td><td>0.1</td><td>Devin</td><td>Two-Spirited</td><td>NA</td></tr>\n",
       "\t<tr><td>Pro    </td><td>TRUE</td><td>d9473710057f7d42f36570f0be83817a4eea614029ff90cf50d8889cdd729d11</td><td>0.2</td><td>Ahmed</td><td>Other       </td><td>NA</td></tr>\n",
       "</tbody>\n",
       "</table>\n"
      ],
      "text/latex": [
       "A spec\\_tbl\\_df: 2 × 7\n",
       "\\begin{tabular}{lllllll}\n",
       " experience & subscribe & hashedEmail & played\\_hours & name & gender & Age\\\\\n",
       " <chr> & <lgl> & <chr> & <dbl> & <chr> & <chr> & <dbl>\\\\\n",
       "\\hline\n",
       "\t Regular & TRUE & 7d71c49cbbce8dcf0276b2bfecfa2d16f22cb31a4024556d6085884298f2ee8d & 0.1 & Devin & Two-Spirited & NA\\\\\n",
       "\t Pro     & TRUE & d9473710057f7d42f36570f0be83817a4eea614029ff90cf50d8889cdd729d11 & 0.2 & Ahmed & Other        & NA\\\\\n",
       "\\end{tabular}\n"
      ],
      "text/markdown": [
       "\n",
       "A spec_tbl_df: 2 × 7\n",
       "\n",
       "| experience &lt;chr&gt; | subscribe &lt;lgl&gt; | hashedEmail &lt;chr&gt; | played_hours &lt;dbl&gt; | name &lt;chr&gt; | gender &lt;chr&gt; | Age &lt;dbl&gt; |\n",
       "|---|---|---|---|---|---|---|\n",
       "| Regular | TRUE | 7d71c49cbbce8dcf0276b2bfecfa2d16f22cb31a4024556d6085884298f2ee8d | 0.1 | Devin | Two-Spirited | NA |\n",
       "| Pro     | TRUE | d9473710057f7d42f36570f0be83817a4eea614029ff90cf50d8889cdd729d11 | 0.2 | Ahmed | Other        | NA |\n",
       "\n"
      ],
      "text/plain": [
       "  experience subscribe\n",
       "1 Regular    TRUE     \n",
       "2 Pro        TRUE     \n",
       "  hashedEmail                                                      played_hours\n",
       "1 7d71c49cbbce8dcf0276b2bfecfa2d16f22cb31a4024556d6085884298f2ee8d 0.1         \n",
       "2 d9473710057f7d42f36570f0be83817a4eea614029ff90cf50d8889cdd729d11 0.2         \n",
       "  name  gender       Age\n",
       "1 Devin Two-Spirited NA \n",
       "2 Ahmed Other        NA "
      ]
     },
     "metadata": {},
     "output_type": "display_data"
    },
    {
     "data": {
      "text/html": [
       "<style>\n",
       ".dl-inline {width: auto; margin:0; padding: 0}\n",
       ".dl-inline>dt, .dl-inline>dd {float: none; width: auto; display: inline-block}\n",
       ".dl-inline>dt::after {content: \":\\0020\"; padding-right: .5ex}\n",
       ".dl-inline>dt:not(:first-of-type) {padding-left: .5ex}\n",
       "</style><dl class=dl-inline><dt>experience</dt><dd>0</dd><dt>subscribe</dt><dd>0</dd><dt>hashedEmail</dt><dd>0</dd><dt>played_hours</dt><dd>0</dd><dt>name</dt><dd>0</dd><dt>gender</dt><dd>0</dd><dt>Age</dt><dd>2</dd></dl>\n"
      ],
      "text/latex": [
       "\\begin{description*}\n",
       "\\item[experience] 0\n",
       "\\item[subscribe] 0\n",
       "\\item[hashedEmail] 0\n",
       "\\item[played\\textbackslash{}\\_hours] 0\n",
       "\\item[name] 0\n",
       "\\item[gender] 0\n",
       "\\item[Age] 2\n",
       "\\end{description*}\n"
      ],
      "text/markdown": [
       "experience\n",
       ":   0subscribe\n",
       ":   0hashedEmail\n",
       ":   0played_hours\n",
       ":   0name\n",
       ":   0gender\n",
       ":   0Age\n",
       ":   2\n",
       "\n"
      ],
      "text/plain": [
       "  experience    subscribe  hashedEmail played_hours         name       gender \n",
       "           0            0            0            0            0            0 \n",
       "         Age \n",
       "           2 "
      ]
     },
     "metadata": {},
     "output_type": "display_data"
    }
   ],
   "source": [
    "sum(is.na(players$Age))  \n",
    "players_na_age <- players |>\n",
    "                  filter(is.na(Age)) \n",
    "players_na_age\n",
    "colSums(is.na(players))"
   ]
  },
  {
   "cell_type": "code",
   "execution_count": 19,
   "id": "70bddf63-e6f1-44c4-abc7-5cfabe7f269a",
   "metadata": {},
   "outputs": [
    {
     "data": {
      "text/html": [
       "<table class=\"dataframe\">\n",
       "<caption>A spec_tbl_df: 85 × 7</caption>\n",
       "<thead>\n",
       "\t<tr><th scope=col>experience</th><th scope=col>subscribe</th><th scope=col>hashedEmail</th><th scope=col>played_hours</th><th scope=col>name</th><th scope=col>gender</th><th scope=col>Age</th></tr>\n",
       "\t<tr><th scope=col>&lt;chr&gt;</th><th scope=col>&lt;lgl&gt;</th><th scope=col>&lt;chr&gt;</th><th scope=col>&lt;dbl&gt;</th><th scope=col>&lt;chr&gt;</th><th scope=col>&lt;chr&gt;</th><th scope=col>&lt;dbl&gt;</th></tr>\n",
       "</thead>\n",
       "<tbody>\n",
       "\t<tr><td>Veteran</td><td>FALSE</td><td>b674dd7ee0d24096d1c019615ce4d12b20fcbff12d79d3c5a9d2118eb7ccbb28</td><td>0</td><td>Blake </td><td>Male  </td><td>17</td></tr>\n",
       "\t<tr><td>Amateur</td><td> TRUE</td><td>f58aad5996a435f16b0284a3b267f973f9af99e7a89bee0430055a44fa92f977</td><td>0</td><td>Adrian</td><td>Female</td><td>17</td></tr>\n",
       "\t<tr><td>Regular</td><td> TRUE</td><td>8e594b8953193b26f498db95a508b03c6fe1c24bb5251d392c18a0da9a722807</td><td>0</td><td>Luna  </td><td>Female</td><td>19</td></tr>\n",
       "\t<tr><td>⋮</td><td>⋮</td><td>⋮</td><td>⋮</td><td>⋮</td><td>⋮</td><td>⋮</td></tr>\n",
       "\t<tr><td>Amateur</td><td> TRUE</td><td>644fe4200c19a73768b3fa598afcbd0948f7557925b7f17166285da23af31cc6</td><td>0</td><td>Rhys  </td><td>Male             </td><td>20</td></tr>\n",
       "\t<tr><td>Amateur</td><td> TRUE</td><td>b6e9e593b9ec51c5e335457341c324c34a2239531e1890b93ca52ac1dc76b08f</td><td>0</td><td>Bailey</td><td>Female           </td><td>17</td></tr>\n",
       "\t<tr><td>Amateur</td><td>FALSE</td><td>d572f391d452b76ea2d7e5e53a3d38bfd7499c7399db299bd4fedb06a46ad5bb</td><td>0</td><td>Dylan </td><td>Prefer not to say</td><td>17</td></tr>\n",
       "</tbody>\n",
       "</table>\n"
      ],
      "text/latex": [
       "A spec\\_tbl\\_df: 85 × 7\n",
       "\\begin{tabular}{lllllll}\n",
       " experience & subscribe & hashedEmail & played\\_hours & name & gender & Age\\\\\n",
       " <chr> & <lgl> & <chr> & <dbl> & <chr> & <chr> & <dbl>\\\\\n",
       "\\hline\n",
       "\t Veteran & FALSE & b674dd7ee0d24096d1c019615ce4d12b20fcbff12d79d3c5a9d2118eb7ccbb28 & 0 & Blake  & Male   & 17\\\\\n",
       "\t Amateur &  TRUE & f58aad5996a435f16b0284a3b267f973f9af99e7a89bee0430055a44fa92f977 & 0 & Adrian & Female & 17\\\\\n",
       "\t Regular &  TRUE & 8e594b8953193b26f498db95a508b03c6fe1c24bb5251d392c18a0da9a722807 & 0 & Luna   & Female & 19\\\\\n",
       "\t ⋮ & ⋮ & ⋮ & ⋮ & ⋮ & ⋮ & ⋮\\\\\n",
       "\t Amateur &  TRUE & 644fe4200c19a73768b3fa598afcbd0948f7557925b7f17166285da23af31cc6 & 0 & Rhys   & Male              & 20\\\\\n",
       "\t Amateur &  TRUE & b6e9e593b9ec51c5e335457341c324c34a2239531e1890b93ca52ac1dc76b08f & 0 & Bailey & Female            & 17\\\\\n",
       "\t Amateur & FALSE & d572f391d452b76ea2d7e5e53a3d38bfd7499c7399db299bd4fedb06a46ad5bb & 0 & Dylan  & Prefer not to say & 17\\\\\n",
       "\\end{tabular}\n"
      ],
      "text/markdown": [
       "\n",
       "A spec_tbl_df: 85 × 7\n",
       "\n",
       "| experience &lt;chr&gt; | subscribe &lt;lgl&gt; | hashedEmail &lt;chr&gt; | played_hours &lt;dbl&gt; | name &lt;chr&gt; | gender &lt;chr&gt; | Age &lt;dbl&gt; |\n",
       "|---|---|---|---|---|---|---|\n",
       "| Veteran | FALSE | b674dd7ee0d24096d1c019615ce4d12b20fcbff12d79d3c5a9d2118eb7ccbb28 | 0 | Blake  | Male   | 17 |\n",
       "| Amateur |  TRUE | f58aad5996a435f16b0284a3b267f973f9af99e7a89bee0430055a44fa92f977 | 0 | Adrian | Female | 17 |\n",
       "| Regular |  TRUE | 8e594b8953193b26f498db95a508b03c6fe1c24bb5251d392c18a0da9a722807 | 0 | Luna   | Female | 19 |\n",
       "| ⋮ | ⋮ | ⋮ | ⋮ | ⋮ | ⋮ | ⋮ |\n",
       "| Amateur |  TRUE | 644fe4200c19a73768b3fa598afcbd0948f7557925b7f17166285da23af31cc6 | 0 | Rhys   | Male              | 20 |\n",
       "| Amateur |  TRUE | b6e9e593b9ec51c5e335457341c324c34a2239531e1890b93ca52ac1dc76b08f | 0 | Bailey | Female            | 17 |\n",
       "| Amateur | FALSE | d572f391d452b76ea2d7e5e53a3d38bfd7499c7399db299bd4fedb06a46ad5bb | 0 | Dylan  | Prefer not to say | 17 |\n",
       "\n"
      ],
      "text/plain": [
       "   experience subscribe\n",
       "1  Veteran    FALSE    \n",
       "2  Amateur     TRUE    \n",
       "3  Regular     TRUE    \n",
       "⋮  ⋮          ⋮        \n",
       "83 Amateur     TRUE    \n",
       "84 Amateur     TRUE    \n",
       "85 Amateur    FALSE    \n",
       "   hashedEmail                                                     \n",
       "1  b674dd7ee0d24096d1c019615ce4d12b20fcbff12d79d3c5a9d2118eb7ccbb28\n",
       "2  f58aad5996a435f16b0284a3b267f973f9af99e7a89bee0430055a44fa92f977\n",
       "3  8e594b8953193b26f498db95a508b03c6fe1c24bb5251d392c18a0da9a722807\n",
       "⋮  ⋮                                                               \n",
       "83 644fe4200c19a73768b3fa598afcbd0948f7557925b7f17166285da23af31cc6\n",
       "84 b6e9e593b9ec51c5e335457341c324c34a2239531e1890b93ca52ac1dc76b08f\n",
       "85 d572f391d452b76ea2d7e5e53a3d38bfd7499c7399db299bd4fedb06a46ad5bb\n",
       "   played_hours name   gender            Age\n",
       "1  0            Blake  Male              17 \n",
       "2  0            Adrian Female            17 \n",
       "3  0            Luna   Female            19 \n",
       "⋮  ⋮            ⋮      ⋮                 ⋮  \n",
       "83 0            Rhys   Male              20 \n",
       "84 0            Bailey Female            17 \n",
       "85 0            Dylan  Prefer not to say 17 "
      ]
     },
     "metadata": {},
     "output_type": "display_data"
    },
    {
     "data": {
      "text/html": [
       "43.3673469387755"
      ],
      "text/latex": [
       "43.3673469387755"
      ],
      "text/markdown": [
       "43.3673469387755"
      ],
      "text/plain": [
       "[1] 43.36735"
      ]
     },
     "metadata": {},
     "output_type": "display_data"
    }
   ],
   "source": [
    "zero_hours_players <- players |>\n",
    "                      filter(played_hours == 0)\n",
    "zero_hours_players\n",
    "zero_hours_count = nrow(zero_hours_players)\n",
    "total_players <- nrow(players)\n",
    "\n",
    "zero_hours_percentage <- (zero_hours_count / total_players) * 100\n",
    "zero_hours_percentage"
   ]
  },
  {
   "cell_type": "code",
   "execution_count": 20,
   "id": "16fbb555-a19c-452f-8450-0aa95dc8f3b5",
   "metadata": {},
   "outputs": [
    {
     "name": "stdout",
     "output_type": "stream",
     "text": [
      "\u001b[90m# A tibble: 1 × 6\u001b[39m\n",
      "  total_sessions missing_end_times avg_session_duration median_session_duration\n",
      "           \u001b[3m\u001b[90m<int>\u001b[39m\u001b[23m             \u001b[3m\u001b[90m<int>\u001b[39m\u001b[23m                \u001b[3m\u001b[90m<dbl>\u001b[39m\u001b[23m                   \u001b[3m\u001b[90m<dbl>\u001b[39m\u001b[23m\n",
      "\u001b[90m1\u001b[39m           \u001b[4m1\u001b[24m535                 2                 50.9                      30\n",
      "\u001b[90m# ℹ 2 more variables: min_session_duration <dbl>, max_session_duration <dbl>\u001b[39m\n"
     ]
    }
   ],
   "source": [
    "# Load necessary libraries\n",
    "library(dplyr)\n",
    "library(lubridate)\n",
    "\n",
    "# Load dataset\n",
    "df <- sessions \n",
    "\n",
    "# Convert date-time columns to proper format\n",
    "df$start_time <- dmy_hm(df$start_time)\n",
    "df$end_time <- dmy_hm(df$end_time)\n",
    "\n",
    "# Convert Unix timestamps to datetime\n",
    "df$original_start_time <- as.POSIXct(df$original_start_time / 1000, origin = \"1970-01-01\")\n",
    "df$original_end_time <- as.POSIXct(df$original_end_time / 1000, origin = \"1970-01-01\")\n",
    "\n",
    "# Calculate session duration\n",
    "df$session_duration <- as.numeric(difftime(df$end_time, df$start_time, units = \"mins\"))\n",
    "\n",
    "# Summary statistics\n",
    "summary_report <- df |> summarise(\n",
    "  total_sessions = n(),\n",
    "  missing_end_times = sum(is.na(end_time)),\n",
    "  avg_session_duration = mean(session_duration, na.rm = TRUE),\n",
    "  median_session_duration = median(session_duration, na.rm = TRUE),\n",
    "  min_session_duration = min(session_duration, na.rm = TRUE),\n",
    "  max_session_duration = max(session_duration, na.rm = TRUE)\n",
    ")\n",
    "\n",
    "# Print summary report\n",
    "print(summary_report)\n"
   ]
  },
  {
   "cell_type": "markdown",
   "id": "3b895c66-eb60-4574-b78c-08c2d964a1b9",
   "metadata": {},
   "source": [
    "# (2) Questions:\n",
    "\n",
    "### **Broad Research Question**  \n",
    "What player characteristics and behaviours are most predictive of subscribing to a game-related newsletter, and how do these features differ between various player types? \n",
    "\n",
    "---\n",
    "\n",
    "### **Specific Predictive Question**  \n",
    "**Can a player’s *experience level*, *played hours*, *age*, and *gender* predict their likelihood of subscribing to the newsletter (*subscribe*) in the Minecraft server dataset?**\n",
    "\n",
    "---\n",
    "\n",
    "### **Response Variable**  \n",
    "- **`subscribe`**: Logical variable (`TRUE`/`FALSE`) indicating whether the player subscribed to the newsletter.  \n",
    "\n",
    "---\n",
    "\n",
    "### **How to Data Wrangling**  \n",
    "    - Convert `subscribe`, `experience`and 'gender' into factors for modeling.\n",
    "    - Handle missing values in `Age` (e.g., impute with median or exclude rows with `NA`).  \n",
    "---\n",
    "## **How the Data Answers the Question**  \n",
    "1. **Pattern Identification**:  \n",
    "   - KNN classifies players based on similarity to neighbors. For example:  \n",
    "     - Players with high `played_hours` and `Regular` status may cluster together and show higher subscription rates.  \n",
    "     - Younger players (`Age` < 20) might form a distinct group with unique subscription behaviors.  \n",
    "\n",
    "2. **Predictive Power**:  \n",
    "   - The model quantifies how well the combination of `experience`, `played_hours`, `Age`, and `gender` predicts subscription status.   \n",
    "\n",
    "3. **New Insights**:  \n",
    "   - If `played_hours` and `experience` are key predictors, stakeholders can:  \n",
    "     - Target `Amateur`/`Veteran` players for newsletter promotions.  \n",
    "     - Incentivize people who have played a lot to boost subscriptions.  \n",
    "   - Gender-based trends might give new strategies to targets certain groups. \n",
    "\n"
   ]
  },
  {
   "cell_type": "markdown",
   "id": "5f7a9b0f-6bbb-491e-a165-eac4b6025426",
   "metadata": {},
   "source": [
    "# (3) Exploratory Data Analysis and Visualization"
   ]
  },
  {
   "cell_type": "code",
   "execution_count": 21,
   "id": "9edaa348-07de-4597-a9e6-47e36a37de0b",
   "metadata": {},
   "outputs": [
    {
     "ename": "ERROR",
     "evalue": "Error in median.default(players, Age, na.rm = TRUE): need numeric data\n",
     "output_type": "error",
     "traceback": [
      "Error in median.default(players, Age, na.rm = TRUE): need numeric data\nTraceback:\n",
      "1. ifelse(is.na(players$Age), median(players, Age, na.rm = TRUE), \n .     players$Age)",
      "2. median(players, Age, na.rm = TRUE)",
      "3. median.default(players, Age, na.rm = TRUE)",
      "4. stop(\"need numeric data\")"
     ]
    }
   ],
   "source": [
    "players <- players |>\n",
    "  mutate(\n",
    "    experience = factor(experience, levels = c(\"Beginner\", \"Amateur\", \"Regular\", \"Veteran\", \"Pro\")),\n",
    "    subscribe = factor(subscribe),\n",
    "    gender = factor(gender)\n",
    "  )\n",
    "players$Age <- ifelse(is.na(players$Age), median(players,Age, na.rm = TRUE), players$Age)"
   ]
  },
  {
   "cell_type": "markdown",
   "id": "ca124552-0b90-48db-9fc8-fa895705d5e8",
   "metadata": {},
   "source": [
    "| Variable      | Mean       |\n",
    "|---------------|------------|\n",
    "| played_hours  | 5.846 hours  |\n",
    "| Age           | 20.52 years |"
   ]
  },
  {
   "cell_type": "code",
   "execution_count": null,
   "id": "0dca66bf-5438-47d3-8fe7-b8fc2876affb",
   "metadata": {},
   "outputs": [],
   "source": [
    "ggplot(players, aes(x = Age, y = played_hours, color = subscribe)) +\n",
    "  geom_point(alpha = 0.7) +\n",
    "  labs(\n",
    "    title = \"Played Hours vs. Age by Subscription Status\",\n",
    "    x = \"Age (Years)\",\n",
    "    y = \"Hours Played\",\n",
    "    color = \"Subscribed\"\n",
    "  ) +\n",
    "  theme_minimal()"
   ]
  },
  {
   "cell_type": "markdown",
   "id": "23058180-802f-4b46-a6e2-33355bdc4481",
   "metadata": {},
   "source": [
    "**Insight**:\n",
    "Only people who have have few hours (< 10) played are not going to subscribe\n",
    "People who have played more than a few hours (> 10) are going to subsribe.\n",
    "Younger players (<20 years) with moderate playtime (10–50 hours) are more likely to subscribe."
   ]
  },
  {
   "cell_type": "code",
   "execution_count": null,
   "id": "ce974e28-e057-45d8-a3bd-db3ade7c0bf5",
   "metadata": {},
   "outputs": [],
   "source": [
    "players %>%\n",
    "  group_by(gender, subscribe) |>\n",
    "  summarise(count = n()) |>\n",
    "  mutate(proportion = count / sum(count)) |>\n",
    "  ggplot(aes(x = gender, y = proportion, fill = subscribe)) +\n",
    "  geom_col(position = \"dodge\") +\n",
    "  labs(\n",
    "    title = \"Subscription Rate by Gender\",\n",
    "    x = \"Gender\",\n",
    "    y = \"Proportion Subscribed\",\n",
    "    fill = \"Subscribed\"\n",
    "  ) +\n",
    "  theme_minimal()"
   ]
  },
  {
   "cell_type": "markdown",
   "id": "6a14be5b-4fad-49cf-bd45-11c5139c2c2a",
   "metadata": {},
   "source": [
    "**Insight**:\n",
    "Most gender groups tend to subscribe more than not subscribe (Except Prefer not say to say)\n",
    "Gender-specific campaigns might improve engagement in underrepresented groups."
   ]
  },
  {
   "cell_type": "code",
   "execution_count": null,
   "id": "17eb17a6-3a86-4f80-96c6-6577d8c60461",
   "metadata": {},
   "outputs": [],
   "source": [
    "ggplot(players, aes(x = experience, fill = subscribe)) +\n",
    "  geom_bar(position = \"fill\") +\n",
    "  scale_fill_manual(values = c(\"#FF6B6B\", \"#4ECDC4\")) +\n",
    "  labs(\n",
    "    title = \"Subscription Rate by Experience Level\",\n",
    "    x = \"Experience Level\",\n",
    "    y = \"Proportion Subscribed\",\n",
    "    fill = \"Subscribed\"\n",
    "  ) +\n",
    "  theme_minimal() +\n",
    "  theme(axis.text.x = element_text(angle = 45, hjust = 1))"
   ]
  },
  {
   "cell_type": "markdown",
   "id": "07acdb00-b718-489e-b8b3-e27bf999610d",
   "metadata": {},
   "source": [
    "**Insight**:\n",
    "Lower experience tiers (e.g., Beginner, Pro) show higher subscription proportions.\n",
    "Stakeholders could target lower experienced players for newsletter promotions."
   ]
  },
  {
   "cell_type": "markdown",
   "id": "c5fa7be1-7c90-4e45-bf12-4ad2112cd911",
   "metadata": {},
   "source": [
    "# (4) Methods and Plan\n",
    "# Method Proposal: K-Nearest Neighbors (KNN) Classification\n",
    "\n",
    "## **Why KNN Classification is Appropriate**  \n",
    "1. **Problem Type**: Binary classification (`subscribe` = `TRUE`/`FALSE`) that can be change into categorical.  \n",
    "2. **Mixed Data Types**: Handles both numeric (`played_hours`, `Age`) and categorical (`experience`, `gender`) predictors after preprocessing.  \n",
    "3. **Non-Linearity**: Can compure multiple relationships without assuming linearity (e.g., high `played_hours` + `Regular` status).\n",
    "## **Key Assumptions**  \n",
    "1. **Feature Scaling**: Numeric variables must be normalized to ensure equal weighting in distance calculations.  \n",
    "2. **Relevant Predictors**: The selected features (`experience`, `played_hours`, `Age`, `gender`) are meaningful for predicting subscriptions.\n",
    "   \n",
    "## **Potential Limitations**  \n",
    "1. **Outliers**: Extreme `played_hours` values (e.g., 223 hours) and many players with little to no hours played (e.g., < 1) may distort distance metrics.  \n",
    "2. **Class Imbalance**: Subscribed players (`TRUE`) dominate (73%), potentially biasing predictions.  \n",
    "\n",
    "### **Metrics for Comparison**\n",
    "- **Accuracy**: Overall proportion of correct predictions.\n",
    "- **Precision**: Proportion of true subscribers among predicted subscribers (minimize false positives).\n",
    "- **Recall**: Proportion of actual subscribers correctly identified (minimize false negatives).\n",
    "\n",
    "## **How to Process the Data**  \n",
    "- **Split**: 80% training, 20% testing.\n",
    "- **Find K** Use **5-fold cross-validation** to find k (K = 8) \n",
    "- **Stratification**: Ensure traing and testing set have the same `subscribe` distribution\n",
    "- **Timing**: Split before preprocessing to avoid data leakage into the training process."
   ]
  },
  {
   "cell_type": "code",
   "execution_count": null,
   "id": "e8af953e-1bd9-45db-b393-e684d709364e",
   "metadata": {},
   "outputs": [],
   "source": [
    "set.seed(123)\n",
    "players_split <- initial_split(players, prop = 0.8, strata = subscribe)\n",
    "training_set <- training(players_split)\n",
    "testing_set <- testing(players_split)\n",
    "\n",
    "knn_recipe <- recipe(subscribe ~ experience + played_hours + Age + gender, \n",
    "                    data = training_set) |>\n",
    "  step_impute_median(Age) |>                \n",
    "  step_normalize(all_numeric_predictors())  \n",
    "\n",
    "knn_spec <- nearest_neighbor(\n",
    "  weight_func = \"rectangular\", \n",
    "  neighbors = tune()\n",
    ") |>\n",
    "  set_mode(\"classification\") |> \n",
    "  set_engine(\"kknn\")\n",
    "\n",
    "cv_folds <- vfold_cv(training_set, v = 5, strata = subscribe)\n",
    "\n",
    "knn_workflow <- workflow() |>\n",
    "  add_recipe(knn_recipe) |>\n",
    "  add_model(knn_spec)\n",
    "\n",
    "knn_tune <- knn_workflow |> \n",
    "  tune_grid(\n",
    "    resamples = cv_folds,\n",
    "    grid = tibble(neighbors = seq(2, 20, by = 2)),  # Wider range for k\n",
    "    metrics = metric_set(accuracy, roc_auc)          # Multiple metrics\n",
    "  )\n",
    "\n",
    "# Select best k based on accuracy\n",
    "best_k <- select_best(knn_tune, metric = \"accuracy\")$neighbors\n",
    "best_k"
   ]
  },
  {
   "cell_type": "markdown",
   "id": "cff1faae-4671-46e0-94e2-5ec213d72b50",
   "metadata": {},
   "source": []
  }
 ],
 "metadata": {
  "kernelspec": {
   "display_name": "R",
   "language": "R",
   "name": "ir"
  },
  "language_info": {
   "codemirror_mode": "r",
   "file_extension": ".r",
   "mimetype": "text/x-r-source",
   "name": "R",
   "pygments_lexer": "r",
   "version": "4.3.3"
  }
 },
 "nbformat": 4,
 "nbformat_minor": 5
}
